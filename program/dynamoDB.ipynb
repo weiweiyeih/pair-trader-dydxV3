{
 "cells": [
  {
   "cell_type": "markdown",
   "metadata": {},
   "source": [
    "### Set up boto3"
   ]
  },
  {
   "cell_type": "code",
   "execution_count": null,
   "metadata": {},
   "outputs": [],
   "source": [
    "import boto3\n",
    "from boto3.dynamodb.conditions import Key, Attr\n",
    "from decouple import config"
   ]
  },
  {
   "cell_type": "code",
   "execution_count": null,
   "metadata": {},
   "outputs": [],
   "source": [
    "db = boto3.resource(\n",
    "    'dynamodb',\n",
    "    aws_access_key_id = config('AWS_ACCESS_KEY_ID'),\n",
    "    aws_secret_access_key = config('AWS_SECRET_ACCESS_KEY'),\n",
    "    region_name = 'us-east-1'\n",
    "    )\n",
    "table = db.Table('dydxV3') # partition key: 'name'"
   ]
  },
  {
   "cell_type": "code",
   "execution_count": null,
   "metadata": {},
   "outputs": [],
   "source": [
    "# test get\n",
    "response = table.get_item(\n",
    "    Key={\n",
    "        'name': 'test'\n",
    "    }\n",
    ")\n",
    "response['Item']"
   ]
  },
  {
   "cell_type": "markdown",
   "metadata": {},
   "source": [
    "### Get prices from dydxV3"
   ]
  },
  {
   "cell_type": "code",
   "execution_count": null,
   "metadata": {},
   "outputs": [],
   "source": [
    "from func_public import get_candles_historical\n",
    "from func_connections import connect_dydx"
   ]
  },
  {
   "cell_type": "code",
   "execution_count": null,
   "metadata": {},
   "outputs": [],
   "source": [
    "client = connect_dydx()"
   ]
  },
  {
   "cell_type": "code",
   "execution_count": null,
   "metadata": {},
   "outputs": [],
   "source": [
    "re = get_candles_historical(client, 'MATIC-USD') \n",
    "re\n",
    "# [{'datetime': '2024-02-28T00:00:00.000Z', 'BTC-USD': '57038'},..(old to new)]"
   ]
  },
  {
   "cell_type": "code",
   "execution_count": null,
   "metadata": {},
   "outputs": [],
   "source": [
    "len(re)"
   ]
  },
  {
   "cell_type": "code",
   "execution_count": null,
   "metadata": {},
   "outputs": [],
   "source": [
    "# build a list of prices\n",
    "market = 'MATIC-USD'\n",
    "prices = [] # old to new\n",
    "for i in re:\n",
    "    price = i[market]\n",
    "    prices.append(price)\n",
    "    \n",
    "print(prices)\n",
    "print(len(prices))"
   ]
  },
  {
   "cell_type": "code",
   "execution_count": null,
   "metadata": {},
   "outputs": [],
   "source": [
    "dict = {market: prices}\n",
    "print(dict)"
   ]
  },
  {
   "cell_type": "markdown",
   "metadata": {},
   "source": []
  },
  {
   "cell_type": "code",
   "execution_count": null,
   "metadata": {},
   "outputs": [],
   "source": [
    "markets = ['BTC-USD', 'ETH-USD']\n",
    "item_name = 'all_markets_close_prices'"
   ]
  },
  {
   "cell_type": "code",
   "execution_count": null,
   "metadata": {},
   "outputs": [],
   "source": [
    "def update_markets_prices_dynamoBD(client, db_table, item_name):\n",
    "    # DELETE item\n",
    "    res_delete = table.delete_item(\n",
    "        Key={\n",
    "            'name': item_name\n",
    "    })\n",
    "    if res_delete['ResponseMetadata']['HTTPStatusCode'] != 200:\n",
    "        print(f'DynamoDB: DELETE {item_name} failed')\n",
    "    \n",
    "    # Structure item\n",
    "    ## Get all tradeable markets\n",
    "    tradeable_markets = []\n",
    "    markets = client.public.get_markets()\n",
    "\n",
    "    ### Find \"tradeable\" pairs -> \"ONLINE\" & \"PERPETUAL\"\n",
    "    for market in markets.data[\"markets\"].keys():\n",
    "        market_info = markets.data[\"markets\"][market]\n",
    "        if market_info[\"status\"] == \"ONLINE\" and market_info[\"type\"] == \"PERPETUAL\":\n",
    "            tradeable_markets.append(market)\n",
    "    \n",
    "    ## Get close prices for each tradeable market\n",
    "    item_dict = {}\n",
    "    close_prices = []\n",
    "    latest_datetime = ''\n",
    "    timeframe = ''\n",
    "    for market in tradeable_markets:\n",
    "        candles = get_candles_historical(client, market)\n",
    "        latest_datetime = candles[-1]['datetime']\n",
    "        timeframe = str(len(candles))\n",
    "        prices = []\n",
    "        for c in candles:\n",
    "            prices.append(c[market])\n",
    "        close_prices.append({market: prices})\n",
    "    item_dict = {\n",
    "        'name': item_name,\n",
    "        'latest_datetime': latest_datetime,\n",
    "        'interval': '1hr',\n",
    "        'timeframe': timeframe,\n",
    "        'close_prices': close_prices\n",
    "    }\n",
    "    \n",
    "    # PUT item\n",
    "    res_put = db_table.put_item(Item=item_dict)\n",
    "    if res_put['ResponseMetadata']['HTTPStatusCode'] != 200:\n",
    "        print(f'DynamoDB: PUT {item_name} failed')\n",
    "    \n",
    "    print(f'{item_name} updated in DynamoDB')"
   ]
  },
  {
   "cell_type": "code",
   "execution_count": null,
   "metadata": {},
   "outputs": [],
   "source": [
    "update_markets_prices_dynamoBD(client, table, item_name)"
   ]
  },
  {
   "cell_type": "code",
   "execution_count": null,
   "metadata": {},
   "outputs": [],
   "source": []
  }
 ],
 "metadata": {
  "kernelspec": {
   "display_name": "dydxV3",
   "language": "python",
   "name": "python3"
  },
  "language_info": {
   "codemirror_mode": {
    "name": "ipython",
    "version": 3
   },
   "file_extension": ".py",
   "mimetype": "text/x-python",
   "name": "python",
   "nbconvert_exporter": "python",
   "pygments_lexer": "ipython3",
   "version": "3.9.18"
  }
 },
 "nbformat": 4,
 "nbformat_minor": 2
}
